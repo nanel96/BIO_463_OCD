{
 "cells": [
  {
   "cell_type": "code",
   "execution_count": 1,
   "metadata": {},
   "outputs": [],
   "source": [
    "import pandas as pd\n",
    "from gprofiler import GProfiler\n",
    "import ast"
   ]
  },
  {
   "cell_type": "code",
   "execution_count": 2,
   "metadata": {},
   "outputs": [
    {
     "data": {
      "text/html": [
       "<div>\n",
       "<style scoped>\n",
       "    .dataframe tbody tr th:only-of-type {\n",
       "        vertical-align: middle;\n",
       "    }\n",
       "\n",
       "    .dataframe tbody tr th {\n",
       "        vertical-align: top;\n",
       "    }\n",
       "\n",
       "    .dataframe thead th {\n",
       "        text-align: right;\n",
       "    }\n",
       "</style>\n",
       "<table border=\"1\" class=\"dataframe\">\n",
       "  <thead>\n",
       "    <tr style=\"text-align: right;\">\n",
       "      <th></th>\n",
       "      <th>Unnamed: 0</th>\n",
       "      <th>Pathway_ID</th>\n",
       "      <th>Pathway_name</th>\n",
       "      <th>p_value</th>\n",
       "      <th>enriched_genes</th>\n",
       "    </tr>\n",
       "  </thead>\n",
       "  <tbody>\n",
       "    <tr>\n",
       "      <th>0</th>\n",
       "      <td>133</td>\n",
       "      <td>KEGG:04726</td>\n",
       "      <td>Serotonergic synapse</td>\n",
       "      <td>2.436566e-08</td>\n",
       "      <td>[HTR1A, CACNA1A, HRAS, HTR1D, HTR2A, HTR3A, SL...</td>\n",
       "    </tr>\n",
       "    <tr>\n",
       "      <th>1</th>\n",
       "      <td>197</td>\n",
       "      <td>KEGG:04724</td>\n",
       "      <td>Glutamatergic synapse</td>\n",
       "      <td>1.670683e-06</td>\n",
       "      <td>[SLC1A1, GRIA3, GRIA4, GRIK1, GRIK2, GRIK3, GR...</td>\n",
       "    </tr>\n",
       "    <tr>\n",
       "      <th>2</th>\n",
       "      <td>201</td>\n",
       "      <td>KEGG:04728</td>\n",
       "      <td>Dopaminergic synapse</td>\n",
       "      <td>1.960982e-06</td>\n",
       "      <td>[DRD3, SLC6A3, DRD4, GRIA3, GRIA4, GRIN2B, DRD...</td>\n",
       "    </tr>\n",
       "  </tbody>\n",
       "</table>\n",
       "</div>"
      ],
      "text/plain": [
       "   Unnamed: 0  Pathway_ID           Pathway_name       p_value  \\\n",
       "0         133  KEGG:04726   Serotonergic synapse  2.436566e-08   \n",
       "1         197  KEGG:04724  Glutamatergic synapse  1.670683e-06   \n",
       "2         201  KEGG:04728   Dopaminergic synapse  1.960982e-06   \n",
       "\n",
       "                                      enriched_genes  \n",
       "0  [HTR1A, CACNA1A, HRAS, HTR1D, HTR2A, HTR3A, SL...  \n",
       "1  [SLC1A1, GRIA3, GRIA4, GRIK1, GRIK2, GRIK3, GR...  \n",
       "2  [DRD3, SLC6A3, DRD4, GRIA3, GRIA4, GRIN2B, DRD...  "
      ]
     },
     "execution_count": 2,
     "metadata": {},
     "output_type": "execute_result"
    }
   ],
   "source": [
    "df = pd.read_csv('intersting_kegg_pathways.csv')\n",
    "gene_lists = []\n",
    "for gene_list in df.enriched_genes:\n",
    "    gene_list = ast.literal_eval(gene_list)\n",
    "    gene_lists.append(gene_list)\n",
    "df.enriched_genes = gene_lists\n",
    "df"
   ]
  },
  {
   "cell_type": "code",
   "execution_count": 3,
   "metadata": {},
   "outputs": [],
   "source": [
    "gene_counts = dict()\n",
    "for index, row in df.iterrows():\n",
    "    pathway = row.Pathway_name\n",
    "    gene_list = row.enriched_genes\n",
    "    for gene in gene_list:\n",
    "        if gene in gene_counts:\n",
    "            gene_counts[gene].add(pathway)\n",
    "        else:\n",
    "            gene_counts[gene] = {pathway}"
   ]
  },
  {
   "cell_type": "code",
   "execution_count": 4,
   "metadata": {},
   "outputs": [],
   "source": [
    "gp = GProfiler(return_dataframe=True)"
   ]
  },
  {
   "cell_type": "code",
   "execution_count": 6,
   "metadata": {},
   "outputs": [],
   "source": [
    "for index, row in df.iterrows():\n",
    "    old_genes = row.enriched_genes\n",
    "    new_genes = list(gp.convert(query = old_genes, organism = 'hsapiens', target_namespace= 'uniprotswissprot_acc').converted)\n",
    "    file_name = row['Pathway_name'] + '.txt'\n",
    "    colors = set()\n",
    "    with open(file_name, 'w+') as file:\n",
    "        for gene, ID in zip(old_genes,new_genes):\n",
    "            pathways = gene_counts[gene]\n",
    "            if len(pathways) == 3:\n",
    "                ID += ' red\\n'\n",
    "                colors.add('red')\n",
    "            elif pathways == {'Dopaminergic synapse'} or pathways == {'Glutamatergic synapse'} or pathways == {'Serotonergic synapse'}:\n",
    "                ID += ' yellow\\n'\n",
    "                colors.add('yellow')\n",
    "            elif pathways == {'Dopaminergic synapse', 'Glutamatergic synapse'}:\n",
    "                ID += ' green\\n'\n",
    "                colors.add('green')\n",
    "            elif pathways == {'Glutamatergic synapse', 'Serotonergic synapse'}:\n",
    "                ID += ' blue\\n'\n",
    "                colors.add('blue')\n",
    "            elif pathways == {'Serotonergic synapse', 'Dopaminergic synapse'}:\n",
    "                ID += ' orange\\n'\n",
    "                colors.add('orange')\n",
    "            else:\n",
    "                print(pathways)\n",
    "        \n",
    "            file.write(ID)\n",
    "        file.close()\n",
    "        \n",
    "   "
   ]
  },
  {
   "cell_type": "code",
   "execution_count": 7,
   "metadata": {},
   "outputs": [
    {
     "data": {
      "text/plain": [
       "{'green', 'red', 'yellow'}"
      ]
     },
     "execution_count": 7,
     "metadata": {},
     "output_type": "execute_result"
    }
   ],
   "source": [
    "colors"
   ]
  },
  {
   "cell_type": "code",
   "execution_count": null,
   "metadata": {},
   "outputs": [],
   "source": []
  }
 ],
 "metadata": {
  "kernelspec": {
   "display_name": "Python 3",
   "language": "python",
   "name": "python3"
  },
  "language_info": {
   "codemirror_mode": {
    "name": "ipython",
    "version": 3
   },
   "file_extension": ".py",
   "mimetype": "text/x-python",
   "name": "python",
   "nbconvert_exporter": "python",
   "pygments_lexer": "ipython3",
   "version": "3.8.3"
  }
 },
 "nbformat": 4,
 "nbformat_minor": 4
}
